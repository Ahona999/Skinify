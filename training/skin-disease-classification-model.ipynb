Skin Disease Classification
Dataset credits: https://www.kaggle.com/datasets/shubhamgoel27/dermnet

Import all the Dependencies
import tensorflow as tf
from tensorflow.keras import models, layers
import matplotlib.pyplot as plt
from IPython.display import HTML
Set all the Constants
BATCH_SIZE = 32
IMAGE_SIZE = 256
CHANNELS=3
EPOCHS=50
